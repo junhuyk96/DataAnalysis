{
 "cells": [
  {
   "cell_type": "code",
   "execution_count": 22,
   "id": "3265574e",
   "metadata": {},
   "outputs": [],
   "source": [
    "### 페이지의 URL 정보 추출하기"
   ]
  },
  {
   "cell_type": "code",
   "execution_count": 43,
   "id": "089bcf61",
   "metadata": {},
   "outputs": [
    {
     "name": "stderr",
     "output_type": "stream",
     "text": [
      "C:\\Users\\junhu\\AppData\\Local\\Temp/ipykernel_6256/4203404357.py:8: DeprecationWarning: executable_path has been deprecated, please pass in a Service object\n",
      "  driver = webdriver.Chrome(driver)\n",
      "C:\\Users\\junhu\\AppData\\Local\\Temp/ipykernel_6256/4203404357.py:11: DeprecationWarning: find_elements_by_* commands are deprecated. Please use find_elements() instead\n",
      "  alltable = driver.find_elements_by_css_selector(\"table\")\n"
     ]
    },
    {
     "data": {
      "text/plain": [
       "[]"
      ]
     },
     "execution_count": 43,
     "metadata": {},
     "output_type": "execute_result"
    }
   ],
   "source": [
    "from selenium import webdriver\n",
    "from bs4 import BeautifulSoup\n",
    "import re\n",
    "\n",
    "driver = \"chromedriver.exe\"\n",
    "source_url=\"http://namu.wiki/RecentChanges\"\n",
    "\n",
    "driver = webdriver.Chrome(driver)\n",
    "driver.get(source_url)\n",
    "\n",
    "alltable = driver.find_elements_by_css_selector(\"table\")\n",
    "alltable"
   ]
  },
  {
   "cell_type": "code",
   "execution_count": null,
   "id": "da3d701f",
   "metadata": {},
   "outputs": [],
   "source": []
  }
 ],
 "metadata": {
  "kernelspec": {
   "display_name": "Python 3 (ipykernel)",
   "language": "python",
   "name": "python3"
  },
  "language_info": {
   "codemirror_mode": {
    "name": "ipython",
    "version": 3
   },
   "file_extension": ".py",
   "mimetype": "text/x-python",
   "name": "python",
   "nbconvert_exporter": "python",
   "pygments_lexer": "ipython3",
   "version": "3.9.7"
  }
 },
 "nbformat": 4,
 "nbformat_minor": 5
}
